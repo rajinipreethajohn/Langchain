{
 "cells": [
  {
   "cell_type": "code",
   "execution_count": 1,
   "metadata": {},
   "outputs": [],
   "source": [
    "#Step 1: Load the relevant libraries and packages\n",
    "\n",
    "from langchain_community.document_loaders import PyPDFLoader\n",
    "from langchain_community.document_loaders import PyPDFDirectoryLoader\n",
    "from langchain.text_splitter import RecursiveCharacterTextSplitter\n",
    "from langchain_community.vectorstores import FAISS\n",
    "from langchain_community.embeddings import HuggingFaceBgeEmbeddings\n",
    "from langchain.prompts import PromptTemplate\n",
    "from langchain.chains import RetrievalQA"
   ]
  },
  {
   "cell_type": "code",
   "execution_count": 2,
   "metadata": {},
   "outputs": [
    {
     "data": {
      "text/plain": [
       "316"
      ]
     },
     "execution_count": 2,
     "metadata": {},
     "output_type": "execute_result"
    }
   ],
   "source": [
    "#Reading the PDF docs\n",
    "\n",
    "loader = PyPDFDirectoryLoader(\"/Users/rajinipreethajohn/Desktop/Langchain/huggingface/us_census\")\n",
    "documents = loader.load()\n",
    "\n",
    "text_splitter = RecursiveCharacterTextSplitter(chunk_size =1000,chunk_overlap =200)\n",
    "final_documents = text_splitter.split_documents(documents)\n",
    "len(final_documents)"
   ]
  },
  {
   "cell_type": "code",
   "execution_count": 3,
   "metadata": {},
   "outputs": [
    {
     "name": "stderr",
     "output_type": "stream",
     "text": [
      "/Users/rajinipreethajohn/Desktop/Langchain/venv/lib/python3.11/site-packages/tqdm/auto.py:21: TqdmWarning: IProgress not found. Please update jupyter and ipywidgets. See https://ipywidgets.readthedocs.io/en/stable/user_install.html\n",
      "  from .autonotebook import tqdm as notebook_tqdm\n"
     ]
    }
   ],
   "source": [
    "#Embedding using HuggingFaceBgeEmbeddings\n",
    "\n",
    "huggingface_embeddings = HuggingFaceBgeEmbeddings(\n",
    "    model_name=\"BAAI/bge-small-en-v1.5\", #\"sentence-transformers/all-MiniLM-L6-v2\"\n",
    "    model_kwargs={\"device\": \"cpu\"}, \n",
    "    encode_kwargs={'normalize_embeddings':True},\n",
    "    \n",
    ")\n"
   ]
  },
  {
   "cell_type": "code",
   "execution_count": 4,
   "metadata": {},
   "outputs": [
    {
     "data": {
      "text/plain": [
       "array([-8.46568495e-02, -1.19099151e-02, -3.37892473e-02,  2.94559430e-02,\n",
       "        5.19160032e-02,  5.73839471e-02, -4.10018452e-02,  2.74267569e-02,\n",
       "       -1.05128251e-01, -1.58055816e-02,  7.94858411e-02,  5.64318746e-02,\n",
       "       -1.31765064e-02, -3.41544151e-02,  5.81605313e-03,  4.72547859e-02,\n",
       "       -1.30746579e-02,  3.12997657e-03, -3.44226025e-02,  3.08406167e-02,\n",
       "       -4.09086309e-02,  3.52738425e-02, -2.43761409e-02, -4.35831100e-02,\n",
       "        2.41503529e-02,  1.31986691e-02, -4.84447787e-03,  1.92347262e-02,\n",
       "       -5.43913208e-02, -1.42735019e-01,  5.15522342e-03,  2.93115899e-02,\n",
       "       -5.60810231e-02, -8.53531621e-03,  3.14140730e-02,  2.76736263e-02,\n",
       "       -2.06187833e-02,  8.24231580e-02,  4.15424742e-02,  5.79654984e-02,\n",
       "       -3.71587090e-02,  6.26162253e-03, -2.41389461e-02, -5.61793940e-03,\n",
       "       -2.51715127e-02,  5.04967384e-03, -2.52801031e-02, -2.91950209e-03,\n",
       "       -8.24041106e-03, -5.69604822e-02,  2.30822917e-02, -5.54216560e-03,\n",
       "        5.11555411e-02,  6.09937422e-02,  6.49766102e-02, -5.38514517e-02,\n",
       "        2.19109822e-02, -2.54194569e-02, -4.49223369e-02,  4.22459245e-02,\n",
       "        4.75252420e-02,  7.23249628e-04, -2.61084557e-01,  9.30172578e-02,\n",
       "        1.13597428e-02,  4.90668826e-02, -1.06287077e-02, -8.08729976e-03,\n",
       "       -1.53562445e-02, -5.33786044e-02, -6.89967275e-02,  4.75178100e-02,\n",
       "       -5.68595938e-02,  9.38641746e-03,  4.24065664e-02,  2.54346300e-02,\n",
       "        9.67101846e-03,  7.90804345e-03,  2.25160997e-02,  1.91005552e-03,\n",
       "        3.06091979e-02,  2.43991762e-02, -1.34115769e-02, -4.77401204e-02,\n",
       "        4.89939861e-02, -9.49417427e-02,  5.62894344e-02, -4.76261154e-02,\n",
       "        2.81447601e-02, -2.54329853e-02, -3.84951644e-02,  1.00939656e-02,\n",
       "        1.90603663e-04,  3.36625315e-02,  1.00182034e-02,  2.83523891e-02,\n",
       "       -2.68967752e-03, -6.96357898e-03, -3.54914777e-02,  3.42758834e-01,\n",
       "       -1.94496270e-02,  1.43987853e-02, -5.68814809e-03,  1.71480943e-02,\n",
       "       -2.88609345e-03, -5.81653379e-02,  6.35199423e-04,  5.17298887e-03,\n",
       "        2.06331499e-02,  1.65708438e-02,  2.15097405e-02, -2.38795653e-02,\n",
       "        2.89275404e-02,  4.67319377e-02, -3.56104933e-02, -1.05078649e-02,\n",
       "        3.70704308e-02,  1.57502331e-02,  9.43095237e-02, -2.50714980e-02,\n",
       "       -9.55964625e-03,  1.78565904e-02, -9.41774063e-03, -4.57858630e-02,\n",
       "        1.82929970e-02,  5.81431650e-02,  4.94310968e-02,  1.46350697e-01,\n",
       "        2.16057580e-02, -3.92895602e-02,  1.03241310e-01, -3.48300263e-02,\n",
       "       -6.61868975e-03,  7.07988953e-03,  9.26949200e-04,  4.49861912e-03,\n",
       "       -2.89777145e-02,  4.02418822e-02, -5.23191364e-03,  4.59961966e-02,\n",
       "        4.23975103e-03, -4.83790925e-03, -3.23235639e-03, -1.41072929e-01,\n",
       "       -3.76811437e-02,  1.83623865e-01, -2.96609700e-02,  4.90660854e-02,\n",
       "        3.90551426e-02, -1.57758333e-02, -3.86351049e-02,  4.65630665e-02,\n",
       "       -2.43486185e-02,  3.57695818e-02, -3.54947709e-02,  2.36266181e-02,\n",
       "       -3.41974228e-04,  3.11703440e-02, -2.39356570e-02, -5.94757646e-02,\n",
       "        6.06259331e-02, -3.81902196e-02, -7.04254881e-02,  1.42479967e-02,\n",
       "        3.34432051e-02, -3.85254733e-02, -1.71951782e-02, -7.12288395e-02,\n",
       "        2.64976472e-02,  1.09496256e-02,  1.32650305e-02,  3.89528200e-02,\n",
       "        1.60355438e-02, -3.17630172e-02,  1.02013722e-01,  2.92912070e-02,\n",
       "       -2.29205247e-02, -8.38056579e-03, -1.72172766e-02, -6.78820834e-02,\n",
       "        5.39418589e-03, -2.32347418e-02, -6.07407354e-02, -3.86575684e-02,\n",
       "       -1.54306982e-02, -3.84983830e-02, -5.02867624e-02,  5.04235402e-02,\n",
       "        4.94897887e-02, -1.41083049e-02, -2.98147905e-03,  9.76667216e-05,\n",
       "       -6.59190118e-02,  3.01006790e-02, -5.46622497e-04, -1.64788030e-02,\n",
       "       -5.21614738e-02, -3.30223516e-03,  4.75748442e-02, -3.40808183e-02,\n",
       "       -2.98659727e-02,  2.75015309e-02,  5.90201281e-03, -2.64041219e-03,\n",
       "       -1.61242504e-02,  2.05223206e-02,  1.21104801e-02, -5.49782030e-02,\n",
       "        5.10389619e-02, -7.92087801e-03,  7.25206453e-03,  3.51751186e-02,\n",
       "        3.66276652e-02,  5.67703974e-04,  2.60788519e-02,  2.50971001e-02,\n",
       "        1.14480844e-02, -2.54924763e-02,  1.96417570e-02,  2.84220316e-02,\n",
       "        2.82554291e-02,  6.57489896e-02,  9.26554278e-02, -2.68629700e-01,\n",
       "       -8.90587573e-04,  3.16914520e-03,  5.08361124e-03, -6.42100573e-02,\n",
       "       -4.56614643e-02, -4.62259427e-02,  3.60925086e-02,  8.29052366e-03,\n",
       "        8.92349407e-02,  5.68022020e-02,  6.91057183e-03, -1.08683873e-02,\n",
       "        9.36060473e-02,  1.03680659e-02, -8.60929787e-02,  1.77332386e-02,\n",
       "       -2.00802833e-02, -1.85124259e-02,  5.62392175e-04, -9.38340276e-03,\n",
       "        7.76064629e-03, -5.37273400e-02, -2.30028629e-02,  7.48890266e-02,\n",
       "       -1.29693011e-02,  6.53717443e-02, -4.24983092e-02, -7.10293651e-02,\n",
       "       -1.56803932e-02, -6.23028725e-02,  5.36034927e-02, -6.53214473e-03,\n",
       "       -1.15985595e-01,  6.70967996e-02,  1.93367079e-02, -6.67827874e-02,\n",
       "       -2.01760116e-03, -6.27636611e-02, -2.95005552e-02, -2.71986835e-02,\n",
       "        4.49796543e-02, -6.61586970e-02,  2.13751104e-02, -2.94077899e-02,\n",
       "       -5.71503304e-02,  4.05282453e-02,  7.11039454e-02, -6.80165589e-02,\n",
       "        2.11908855e-02,  1.30515378e-02, -2.91152336e-02, -2.25581396e-02,\n",
       "       -1.60188973e-02,  3.20553966e-02, -5.89460433e-02, -2.97131892e-02,\n",
       "        3.42681855e-02, -1.58376321e-02, -9.31773614e-03,  3.59834135e-02,\n",
       "        3.65337776e-03,  4.73319255e-02, -1.06235100e-02, -8.69732257e-03,\n",
       "       -4.38009761e-02,  5.94558055e-03, -2.41493993e-02, -7.79940188e-02,\n",
       "        1.46542788e-02,  1.05614103e-02,  5.45365661e-02, -3.17896865e-02,\n",
       "       -1.26763545e-02,  7.92557467e-03, -1.38133317e-02,  5.01396544e-02,\n",
       "       -7.28575420e-03, -5.23704058e-03, -5.32641187e-02,  4.78208773e-02,\n",
       "       -5.38353249e-02,  1.11437012e-02,  3.96674089e-02, -1.93496309e-02,\n",
       "        9.94826388e-03, -3.53477686e-03,  3.58566223e-03, -9.61505156e-03,\n",
       "        2.15324312e-02, -1.82350222e-02, -2.15189029e-02, -1.38836065e-02,\n",
       "       -1.76699292e-02,  3.37979960e-04, -3.84798332e-04, -2.25800529e-01,\n",
       "        4.51243073e-02,  1.53376712e-02, -1.76967140e-02, -1.42526496e-02,\n",
       "       -7.00281328e-03, -3.13724652e-02,  2.13676621e-03, -9.28345509e-03,\n",
       "       -1.66986939e-02,  4.66264263e-02,  7.71809220e-02,  1.26696989e-01,\n",
       "       -1.83595642e-02, -1.39637031e-02, -1.23299519e-03,  5.93339056e-02,\n",
       "       -1.37463410e-03,  1.98233742e-02, -2.92636342e-02,  4.96656708e-02,\n",
       "       -6.07207157e-02,  1.53544813e-01, -4.67309654e-02,  1.97028946e-02,\n",
       "       -7.67832845e-02, -7.73234153e-03,  3.71618532e-02, -3.00591365e-02,\n",
       "        8.30263272e-03,  2.06259210e-02,  1.97466766e-03,  3.39764543e-02,\n",
       "       -1.70869064e-02,  4.84795980e-02,  1.20782144e-02,  1.24999322e-02,\n",
       "        5.61724417e-02,  9.88541543e-03,  2.13879496e-02, -4.25293818e-02,\n",
       "       -1.94037519e-02,  2.47838181e-02,  1.37260985e-02,  6.41119778e-02,\n",
       "       -2.84480881e-02, -4.64116447e-02, -5.36255836e-02, -6.95803537e-05,\n",
       "        6.45710155e-02, -4.31988126e-04, -1.32470708e-02,  5.85138053e-03,\n",
       "        1.48594892e-02, -5.41847982e-02, -2.02038158e-02, -5.98263033e-02,\n",
       "        3.67029719e-02,  1.43322023e-03, -8.64459109e-03,  2.90671643e-02,\n",
       "        4.38366160e-02, -7.64942691e-02,  1.55717973e-02,  6.65831342e-02])"
      ]
     },
     "execution_count": 4,
     "metadata": {},
     "output_type": "execute_result"
    }
   ],
   "source": [
    "import numpy as np\n",
    "page_content = huggingface_embeddings.embed_query(final_documents[0].page_content)\n",
    "#np.array(page_content).shape (will give 384 embeddings in final_documents[0]\n",
    "np.array(page_content)\n"
   ]
  },
  {
   "cell_type": "code",
   "execution_count": 5,
   "metadata": {},
   "outputs": [],
   "source": [
    "#Vector Store creation\n",
    "# If errror with FAISS, THEN 'pip install faiss-cpu'\n",
    "\n",
    "\n",
    "VectorStore = FAISS.from_documents(final_documents[:250],huggingface_embeddings)\n"
   ]
  },
  {
   "cell_type": "code",
   "execution_count": 6,
   "metadata": {},
   "outputs": [
    {
     "name": "stdout",
     "output_type": "stream",
     "text": [
      "2 U.S. Census Bureau\n",
      "WHAT IS HEALTH INSURANCE COVERAGE?\n",
      "This brief presents state-level estimates of health insurance coverage \n",
      "using data from the American Community Survey (ACS). The  \n",
      "U.S. Census Bureau conducts the ACS throughout the year; the \n",
      "survey asks respondents to report their coverage at the time of \n",
      "interview. The resulting measure of health insurance coverage, \n",
      "therefore, reflects an annual average of current comprehensive \n",
      "health insurance coverage status.* This uninsured rate measures a \n",
      "different concept than the measure based on the Current Population \n",
      "Survey Annual Social and Economic Supplement (CPS ASEC). \n",
      "For reporting purposes, the ACS broadly classifies health insurance \n",
      "coverage as private insurance or public insurance. The ACS defines \n",
      "private health insurance as a plan provided through an employer \n",
      "or a union, coverage purchased directly by an individual from an \n",
      "insurance company or through an exchange (such as healthcare.\n"
     ]
    }
   ],
   "source": [
    "# Query using Similarity Search\n",
    "\n",
    "query = \"WHAT IS HEALTH INSURANCE COVERAGE??\"\n",
    "relevant_documents=VectorStore.similarity_search(query)\n",
    "print(relevant_documents[0].page_content)\n"
   ]
  },
  {
   "cell_type": "code",
   "execution_count": 7,
   "metadata": {},
   "outputs": [
    {
     "name": "stdout",
     "output_type": "stream",
     "text": [
      "tags=['FAISS', 'HuggingFaceBgeEmbeddings'] vectorstore=<langchain_community.vectorstores.faiss.FAISS object at 0x2c5922c10> search_kwargs={'k': 3}\n"
     ]
    }
   ],
   "source": [
    "#In order to get more than one relevant answer, we could use \n",
    "#retriever and specify how many we want\n",
    "\n",
    "retriever=VectorStore.as_retriever(search_type=\"similarity\",search_kwargs={\"k\":3}) #relevant 3 answers)\n",
    "                                   \n",
    "print(retriever)"
   ]
  },
  {
   "cell_type": "code",
   "execution_count": 17,
   "metadata": {},
   "outputs": [],
   "source": [
    "#In order to get the relevant retrievers we need to connect to the\n",
    "#LLM we will use hf token\n",
    "\n",
    "import os\n",
    "\n",
    "from dotenv import load_dotenv\n",
    "load_dotenv()\n",
    "api_key= os.environ.get(\"HF_API_TOKEN\")\n"
   ]
  },
  {
   "cell_type": "code",
   "execution_count": 38,
   "metadata": {},
   "outputs": [
    {
     "data": {
      "text/plain": [
       "'What is health insurance coverage?\\n\\nHealth insurance coverage is a contract between an insurance company and an individual or group that outlines the terms of the insurance policy. The policy specifies the types of medical services and treatments that are covered, as well as the financial responsibilities of both the insured person and the insurance company.\\n\\nHealth insurance coverage can help protect individuals and families from the financial burden of medical expenses, which can be significant. By paying a premium, or monthly fee, the insured person can access healthcare'"
      ]
     },
     "execution_count": 38,
     "metadata": {},
     "output_type": "execute_result"
    }
   ],
   "source": [
    "from langchain_community.llms import HuggingFaceHub\n",
    "\n",
    "hf=HuggingFaceHub(\n",
    "    repo_id=\"mistralai/Mistral-7B-Instruct-v0.2\",\n",
    "    model_kwargs={\"temperature\":0.1,\"max_length\":500},huggingfacehub_api_token=api_key,\n",
    "\n",
    ")\n",
    "query=\"What is health insurance coverage?\"\n",
    "hf.invoke(query)"
   ]
  },
  {
   "cell_type": "code",
   "execution_count": 40,
   "metadata": {},
   "outputs": [],
   "source": [
    "prompt_template=\"\"\"\n",
    "Use the following piece of context to answer the question asked.\n",
    "Please try to provide the answer only based on the context\n",
    "\n",
    "{context}\n",
    "Question:{question}\n",
    "\n",
    "Helpful Answers:\n",
    " \"\"\""
   ]
  },
  {
   "cell_type": "code",
   "execution_count": 41,
   "metadata": {},
   "outputs": [],
   "source": [
    "prompt=PromptTemplate(template=prompt_template,input_variables=[\"context\",\"question\"])"
   ]
  },
  {
   "cell_type": "code",
   "execution_count": 42,
   "metadata": {},
   "outputs": [],
   "source": [
    "retrievalQA=RetrievalQA.from_chain_type(\n",
    "    llm=hf,\n",
    "    chain_type=\"stuff\",\n",
    "    retriever=retriever,\n",
    "    return_source_documents=True,\n",
    "    chain_type_kwargs={\"prompt\":prompt}\n",
    ")"
   ]
  },
  {
   "cell_type": "code",
   "execution_count": 43,
   "metadata": {},
   "outputs": [],
   "source": [
    "query=\"\"\"DIFFERENCES IN THE\n",
    "UNINSURED RATE BY STATE\n",
    "IN 2022\"\"\""
   ]
  },
  {
   "cell_type": "code",
   "execution_count": 44,
   "metadata": {},
   "outputs": [
    {
     "name": "stdout",
     "output_type": "stream",
     "text": [
      "\n",
      "Use the following piece of context to answer the question asked.\n",
      "Please try to provide the answer only based on the context\n",
      "\n",
      "comparison of ACS and CPS ASEC measures \n",
      "of health insurance coverage, refer to < www.\n",
      "census.gov/topics/health/health-insurance/\n",
      "guidance.html >.\n",
      "9 Respondents may have more than one \n",
      "health insurance coverage type at the time \n",
      "of interview. As a result, adding the total \n",
      "number of people with private coverage and \n",
      "the total number with public coverage will \n",
      "sum to more than the total number with any \n",
      "coverage.• From 2021 to 2022, nine states \n",
      "reported increases in private \n",
      "coverage, while seven reported \n",
      "decreases (Appendix Table B-2). \n",
      "DIFFERENCES IN THE \n",
      "UNINSURED RATE BY STATE \n",
      "IN 2022\n",
      "In 2022, uninsured rates at the \n",
      "time of interview ranged across \n",
      "states from a low of 2.4 percent \n",
      "in Massachusetts to a high of 16.6 \n",
      "percent in Texas, compared to the \n",
      "national rate of 8.0 percent.10 Ten \n",
      "of the 15 states with uninsured \n",
      "10 The uninsured rates in the District \n",
      "of Columbia and Massachusetts were not \n",
      "statistically different.rates above the national aver -\n",
      "\n",
      "percent (Appendix Table B-5). \n",
      "Medicaid coverage accounted \n",
      "for a portion of that difference. \n",
      "Medicaid coverage was 22.7 per -\n",
      "cent in the group of states that \n",
      "expanded Medicaid eligibility and \n",
      "18.0 percent in the group of nonex -\n",
      "pansion states.\n",
      "CHANGES IN THE UNINSURED \n",
      "RATE BY STATE FROM 2021 \n",
      "TO 2022\n",
      "From 2021 to 2022, uninsured rates \n",
      "decreased across 27 states, while \n",
      "only Maine had an increase. The \n",
      "uninsured rate in Maine increased \n",
      "from 5.7 percent to 6.6 percent, \n",
      "although it remained below the \n",
      "national average. Maine’s uninsured \n",
      "rate was still below 8.0 percent, \n",
      "21 Douglas Conway and Breauna Branch, \n",
      "“Health Insurance Coverage Status and Type \n",
      "by Geography: 2019 and 2021,” 2022, < www.\n",
      "census.gov/content/dam/Census/library/\n",
      "publications/2022/acs/acsbr-013.pdf >.\n",
      "\n",
      "library/publications/2022/acs/acsbr-013.pdf >.\n",
      "39 In 2022, the private coverage rates were \n",
      "not statistically different in North Dakota and \n",
      "Utah.Figure /five.tab/period.tab\n",
      "Percentage of Uninsured People for the /two.tab/five.tab Most Populous Metropolitan \n",
      "Areas/colon.tab /two.tab/zero.tab/two.tab/one.tab and /two.tab/zero.tab/two.tab/two.tab\n",
      "(Civilian, noninstitutionalized population) /uni00A0\n",
      "* Denotes a statistically signiﬁcant change between 2021 and 2022 at the 90 percent conﬁdence level.\n",
      "Note: For information on conﬁdentiality protection, sampling error, nonsampling error, and deﬁnitions in the American Community\n",
      "Survey, refer to <https://www2.census.gov/programs-surveys/acs/tech_docs/accuracy/ACS_Accuracy_of_Data_2022.pdf>.\n",
      "Source: U.S. Census Bureau, 2021 and 2022 American Community Survey, 1-year estimates. Boston-Cambridge-Newton/comma.tab MA-NH\n",
      "San Francisco-Oakland-Berkeley/comma.tab CA\n",
      "*Detroit-Warren-Dearborn/comma.tab MI\n",
      "Question:DIFFERENCES IN THE\n",
      "UNINSURED RATE BY STATE\n",
      "IN 2022\n",
      "\n",
      "Helpful Answers:\n",
      " 1. The uninsured rate in Massachusetts was the lowest at 2.4% in 2022, while Texas had the highest rate at 16.6%.\n",
      " 2. The national uninsured rate was 8.0%.\n",
      " 3. Ten of the 15 states with the highest uninsured rates had rates above the national average.\n",
      " 4. Medicaid coverage accounted for a larger percentage of coverage in states that expanded Med\n"
     ]
    }
   ],
   "source": [
    "# Call the QA chain with our query.\n",
    "result = retrievalQA.invoke({\"query\": query})\n",
    "print(result['result'])"
   ]
  }
 ],
 "metadata": {
  "kernelspec": {
   "display_name": "venv",
   "language": "python",
   "name": "python3"
  },
  "language_info": {
   "codemirror_mode": {
    "name": "ipython",
    "version": 3
   },
   "file_extension": ".py",
   "mimetype": "text/x-python",
   "name": "python",
   "nbconvert_exporter": "python",
   "pygments_lexer": "ipython3",
   "version": "3.11.7"
  }
 },
 "nbformat": 4,
 "nbformat_minor": 2
}
